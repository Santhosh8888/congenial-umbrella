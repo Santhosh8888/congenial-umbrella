{
 "cells": [
  {
   "cell_type": "code",
   "execution_count": 1,
   "id": "0fa5b7ff",
   "metadata": {},
   "outputs": [],
   "source": [
    "from tensorflow.keras.preprocessing.image import ImageDataGenerator"
   ]
  },
  {
   "cell_type": "code",
   "execution_count": 2,
   "id": "ea0d35b9",
   "metadata": {},
   "outputs": [],
   "source": [
    "#setting parameter for image data augmentation to the training data.\n",
    "train_datagen = ImageDataGenerator(rescale=1./255,\n",
    "shear_range=0.1,\n",
    "zoom_range=0.1,\n",
    "horizontal_flip=True)"
   ]
  },
  {
   "cell_type": "code",
   "execution_count": 3,
   "id": "5e70dbfc",
   "metadata": {},
   "outputs": [],
   "source": [
    "#image data augmentation to the testing data.\n",
    "val_datagen = ImageDataGenerator(rescale = 1./255)"
   ]
  },
  {
   "cell_type": "code",
   "execution_count": 8,
   "id": "fd50dadd",
   "metadata": {},
   "outputs": [
    {
     "name": "stdout",
     "output_type": "stream",
     "text": [
      "Found 2022 images belonging to 6 classes.\n"
     ]
    }
   ],
   "source": [
    "train_transform = train_datagen.flow_from_directory(r\"D:/Naanmudhalvan/Project/Train\",\n",
    "                                                    target_size=(128,128),\n",
    "                                                    batch_size=64,\n",
    "                                                    class_mode='categorical')"
   ]
  },
  {
   "cell_type": "code",
   "execution_count": 9,
   "id": "d4deeaa9",
   "metadata": {},
   "outputs": [
    {
     "name": "stdout",
     "output_type": "stream",
     "text": [
      "Found 505 images belonging to 6 classes.\n"
     ]
    }
   ],
   "source": [
    "test_transform = val_datagen.flow_from_directory(r\"D:/Naanmudhalvan/Project/Test\",\n",
    "                                                    target_size=(128,128),\n",
    "                                                    batch_size=64,\n",
    "                                                    class_mode='categorical')"
   ]
  },
  {
   "cell_type": "code",
   "execution_count": 10,
   "id": "3c9dab43",
   "metadata": {},
   "outputs": [],
   "source": [
    "#to define linear initializations import Sequential\n",
    "from tensorflow.keras.models import Sequential\n",
    "#To add layers import Dense\n",
    "from tensorflow.keras.layers import Dense\n",
    "# to create o convolution kernel import Convolution2D\n",
    "from tensorflow.keras.layers import Convolution2D\n",
    "# Adding tdax pooling Layer\n",
    "from tensorflow.keras.layers import MaxPooling2D\n",
    "# Adding Flatten Layer\n",
    "from tensorflow.keras.layers import Flatten\n",
    "from tensorflow.keras.optimizers import Adam"
   ]
  },
  {
   "cell_type": "code",
   "execution_count": 11,
   "id": "dca33d26",
   "metadata": {},
   "outputs": [],
   "source": [
    "model=Sequential()"
   ]
  },
  {
   "cell_type": "code",
   "execution_count": 13,
   "id": "a5dcd0e2",
   "metadata": {},
   "outputs": [],
   "source": [
    "#1st\n",
    "model.add(Convolution2D(32,(3,3),input_shape=(128,128,3),activation='relu'))\n",
    "model.add(MaxPooling2D(2,2))"
   ]
  },
  {
   "cell_type": "code",
   "execution_count": 16,
   "id": "7cf2f9fd",
   "metadata": {},
   "outputs": [],
   "source": [
    "#2nd \n",
    "model.add(Convolution2D(64,(3,3),padding='same',activation='relu'))\n",
    "model.add(MaxPooling2D(pool_size=2))"
   ]
  },
  {
   "cell_type": "code",
   "execution_count": 17,
   "id": "853ffb36",
   "metadata": {},
   "outputs": [],
   "source": [
    "#3rd\n",
    "model.add(Convolution2D(32,(3,3),activation='relu'))\n",
    "model.add(MaxPooling2D(2,2))"
   ]
  },
  {
   "cell_type": "code",
   "execution_count": 18,
   "id": "c54c3e1a",
   "metadata": {},
   "outputs": [],
   "source": [
    "#4rth\n",
    "model.add(Convolution2D(32,(3,3),padding='same',activation='relu'))\n",
    "model.add(MaxPooling2D(pool_size=2))"
   ]
  },
  {
   "cell_type": "code",
   "execution_count": 19,
   "id": "a3a95e26",
   "metadata": {},
   "outputs": [],
   "source": [
    "model.add(Flatten())"
   ]
  },
  {
   "cell_type": "code",
   "execution_count": 20,
   "id": "15ac8893",
   "metadata": {},
   "outputs": [],
   "source": [
    "# Adding 1st hidden layer\n",
    "model.add(Dense(kernel_initializer='uniform',activation='relu',units=150))"
   ]
  },
  {
   "cell_type": "code",
   "execution_count": 21,
   "id": "f854bddc",
   "metadata": {},
   "outputs": [],
   "source": [
    "# Adding 2nd hidden layer\n",
    "model.add(Dense(kernel_initializer='uniform',activation='relu',units=68))"
   ]
  },
  {
   "cell_type": "code",
   "execution_count": 23,
   "id": "a4a7854a",
   "metadata": {},
   "outputs": [],
   "source": [
    "# Adding 3rd hidden layer\n",
    "model.add(Dense(kernel_initializer='uniform',activation='relu',units=6))"
   ]
  },
  {
   "cell_type": "code",
   "execution_count": 24,
   "id": "5173a8e7",
   "metadata": {},
   "outputs": [
    {
     "name": "stdout",
     "output_type": "stream",
     "text": [
      "Model: \"sequential\"\n",
      "_________________________________________________________________\n",
      " Layer (type)                Output Shape              Param #   \n",
      "=================================================================\n",
      " conv2d (Conv2D)             (None, 126, 126, 32)      896       \n",
      "                                                                 \n",
      " conv2d_1 (Conv2D)           (None, 124, 124, 32)      9248      \n",
      "                                                                 \n",
      " max_pooling2d (MaxPooling2D  (None, 62, 62, 32)       0         \n",
      " )                                                               \n",
      "                                                                 \n",
      " conv2d_2 (Conv2D)           (None, 62, 62, 64)        18496     \n",
      "                                                                 \n",
      " conv2d_3 (Conv2D)           (None, 62, 62, 64)        36928     \n",
      "                                                                 \n",
      " max_pooling2d_1 (MaxPooling  (None, 31, 31, 64)       0         \n",
      " 2D)                                                             \n",
      "                                                                 \n",
      " conv2d_4 (Conv2D)           (None, 29, 29, 32)        18464     \n",
      "                                                                 \n",
      " max_pooling2d_2 (MaxPooling  (None, 14, 14, 32)       0         \n",
      " 2D)                                                             \n",
      "                                                                 \n",
      " conv2d_5 (Conv2D)           (None, 14, 14, 32)        9248      \n",
      "                                                                 \n",
      " max_pooling2d_3 (MaxPooling  (None, 7, 7, 32)         0         \n",
      " 2D)                                                             \n",
      "                                                                 \n",
      " flatten (Flatten)           (None, 1568)              0         \n",
      "                                                                 \n",
      " dense (Dense)               (None, 150)               235350    \n",
      "                                                                 \n",
      " dense_1 (Dense)             (None, 68)                10268     \n",
      "                                                                 \n",
      " dense_2 (Dense)             (None, 6)                 414       \n",
      "                                                                 \n",
      " dense_3 (Dense)             (None, 6)                 42        \n",
      "                                                                 \n",
      "=================================================================\n",
      "Total params: 339,354\n",
      "Trainable params: 339,354\n",
      "Non-trainable params: 0\n",
      "_________________________________________________________________\n"
     ]
    }
   ],
   "source": [
    "model.summary()"
   ]
  },
  {
   "cell_type": "code",
   "execution_count": 29,
   "id": "b2baf900",
   "metadata": {},
   "outputs": [],
   "source": [
    "#Compile\n",
    "model.compile(loss='categorical_crossentropy',optimizer='adam',metrics=['acc'])"
   ]
  },
  {
   "cell_type": "code",
   "execution_count": 30,
   "id": "0f04fad0",
   "metadata": {},
   "outputs": [
    {
     "name": "stderr",
     "output_type": "stream",
     "text": [
      "C:\\Users\\91902\\AppData\\Local\\Temp\\ipykernel_1080\\79554556.py:1: UserWarning: `Model.fit_generator` is deprecated and will be removed in a future version. Please use `Model.fit`, which supports generators.\n",
      "  res = model.fit_generator(train_transform,steps_per_epoch=2022//64,\n"
     ]
    },
    {
     "name": "stdout",
     "output_type": "stream",
     "text": [
      "Epoch 1/30\n",
      "31/31 [==============================] - 73s 2s/step - loss: 5.5880 - acc: 0.1706 - val_loss: 4.8747 - val_acc: 0.1607\n",
      "Epoch 2/30\n",
      "31/31 [==============================] - 56s 2s/step - loss: 5.0273 - acc: 0.2155 - val_loss: 4.8983 - val_acc: 0.2321\n",
      "Epoch 3/30\n",
      "31/31 [==============================] - 54s 2s/step - loss: 4.9852 - acc: 0.2268 - val_loss: 4.9906 - val_acc: 0.2433\n",
      "Epoch 4/30\n",
      "31/31 [==============================] - 52s 2s/step - loss: 5.0253 - acc: 0.2222 - val_loss: 4.9734 - val_acc: 0.2344\n",
      "Epoch 5/30\n",
      "31/31 [==============================] - 53s 2s/step - loss: 5.0140 - acc: 0.2242 - val_loss: 4.9981 - val_acc: 0.2366\n",
      "Epoch 6/30\n",
      "31/31 [==============================] - 54s 2s/step - loss: 5.0381 - acc: 0.2743 - val_loss: 5.1455 - val_acc: 0.3594\n",
      "Epoch 7/30\n",
      "31/31 [==============================] - 56s 2s/step - loss: 4.9905 - acc: 0.3161 - val_loss: 4.9774 - val_acc: 0.3460\n",
      "Epoch 8/30\n",
      "31/31 [==============================] - 56s 2s/step - loss: 4.9336 - acc: 0.3330 - val_loss: 4.9427 - val_acc: 0.3482\n",
      "Epoch 9/30\n",
      "31/31 [==============================] - 54s 2s/step - loss: 5.7558 - acc: 0.2431 - val_loss: 4.7420 - val_acc: 0.3750\n",
      "Epoch 10/30\n",
      "31/31 [==============================] - 53s 2s/step - loss: 5.0215 - acc: 0.3248 - val_loss: 4.9955 - val_acc: 0.3438\n",
      "Epoch 11/30\n",
      "31/31 [==============================] - 57s 2s/step - loss: 5.0414 - acc: 0.3248 - val_loss: 4.9654 - val_acc: 0.2790\n",
      "Epoch 12/30\n",
      "31/31 [==============================] - 56s 2s/step - loss: 4.9250 - acc: 0.3023 - val_loss: 5.0642 - val_acc: 0.3504\n",
      "Epoch 13/30\n",
      "31/31 [==============================] - 53s 2s/step - loss: 4.9392 - acc: 0.3473 - val_loss: 4.9243 - val_acc: 0.3504\n",
      "Epoch 14/30\n",
      "31/31 [==============================] - 61s 2s/step - loss: 4.9275 - acc: 0.2625 - val_loss: 4.8640 - val_acc: 0.2433\n",
      "Epoch 15/30\n",
      "31/31 [==============================] - 55s 2s/step - loss: 4.9586 - acc: 0.2360 - val_loss: 5.1490 - val_acc: 0.2299\n",
      "Epoch 16/30\n",
      "31/31 [==============================] - 61s 2s/step - loss: 4.9913 - acc: 0.2339 - val_loss: 4.9436 - val_acc: 0.2366\n",
      "Epoch 17/30\n",
      "31/31 [==============================] - 55s 2s/step - loss: 4.9729 - acc: 0.2692 - val_loss: 4.8772 - val_acc: 0.2634\n",
      "Epoch 18/30\n",
      "31/31 [==============================] - 54s 2s/step - loss: 4.8988 - acc: 0.3080 - val_loss: 5.0257 - val_acc: 0.3393\n",
      "Epoch 19/30\n",
      "31/31 [==============================] - 52s 2s/step - loss: 4.9634 - acc: 0.3115 - val_loss: 4.8537 - val_acc: 0.3527\n",
      "Epoch 20/30\n",
      "31/31 [==============================] - 52s 2s/step - loss: 4.8713 - acc: 0.3355 - val_loss: 4.8440 - val_acc: 0.3527\n",
      "Epoch 21/30\n",
      "31/31 [==============================] - 53s 2s/step - loss: 4.9157 - acc: 0.3121 - val_loss: 4.7077 - val_acc: 0.3705\n",
      "Epoch 22/30\n",
      "31/31 [==============================] - 52s 2s/step - loss: 4.8212 - acc: 0.3376 - val_loss: 4.9184 - val_acc: 0.3438\n",
      "Epoch 23/30\n",
      "31/31 [==============================] - 55s 2s/step - loss: 4.9670 - acc: 0.2426 - val_loss: 5.0954 - val_acc: 0.2344\n",
      "Epoch 24/30\n",
      "31/31 [==============================] - 52s 2s/step - loss: 5.0057 - acc: 0.2406 - val_loss: 4.9613 - val_acc: 0.2344\n",
      "Epoch 25/30\n",
      "31/31 [==============================] - 55s 2s/step - loss: 4.9709 - acc: 0.2441 - val_loss: 5.0938 - val_acc: 0.2188\n",
      "Epoch 26/30\n",
      "31/31 [==============================] - 55s 2s/step - loss: 5.0254 - acc: 0.2406 - val_loss: 4.9575 - val_acc: 0.2433\n",
      "Epoch 27/30\n",
      "31/31 [==============================] - 58s 2s/step - loss: 5.0057 - acc: 0.2400 - val_loss: 4.8953 - val_acc: 0.2366\n",
      "Epoch 28/30\n",
      "31/31 [==============================] - 62s 2s/step - loss: 5.0111 - acc: 0.2334 - val_loss: 5.0222 - val_acc: 0.2411\n",
      "Epoch 29/30\n",
      "31/31 [==============================] - 59s 2s/step - loss: 4.9963 - acc: 0.2339 - val_loss: 4.7320 - val_acc: 0.2344\n",
      "Epoch 30/30\n",
      "31/31 [==============================] - 58s 2s/step - loss: 4.9629 - acc: 0.2364 - val_loss: 4.8266 - val_acc: 0.2411\n"
     ]
    }
   ],
   "source": [
    "res = model.fit_generator(train_transform,steps_per_epoch=2022//64,\n",
    "                          validation_steps=505//64,\n",
    "                          epochs=30,\n",
    "                          validation_data=test_transform)"
   ]
  },
  {
   "cell_type": "code",
   "execution_count": 32,
   "id": "35ae9ce4",
   "metadata": {},
   "outputs": [],
   "source": [
    "model.save('Garbage1.h5')"
   ]
  },
  {
   "cell_type": "code",
   "execution_count": 33,
   "id": "d7e93e38",
   "metadata": {},
   "outputs": [],
   "source": [
    "import numpy as np\n",
    "from tensorflow.keras.models import load_model\n",
    "from tensorflow.keras.preprocessing import image\n",
    "model = load_model(\"Garbage1.h5\")"
   ]
  },
  {
   "cell_type": "code",
   "execution_count": 34,
   "id": "19aab3ef",
   "metadata": {},
   "outputs": [],
   "source": [
    "img = image.load_img(r\"D:/Naanmudhalvan/Project/Garbage classification/glass/glass33.jpg\",\n",
    "                    target_size=(128,128))\n",
    "x = image.img_to_array(img)\n",
    "x = np.expand_dims(x,axis=0)"
   ]
  },
  {
   "cell_type": "code",
   "execution_count": 39,
   "id": "8800f2c1",
   "metadata": {},
   "outputs": [
    {
     "name": "stdout",
     "output_type": "stream",
     "text": [
      "1/1 [==============================] - 0s 119ms/step\n"
     ]
    }
   ],
   "source": [
    "a = np.argmax(model.predict(x), axis=1)"
   ]
  },
  {
   "cell_type": "code",
   "execution_count": 40,
   "id": "cdc8ef3f",
   "metadata": {},
   "outputs": [
    {
     "data": {
      "text/plain": [
       "'3'"
      ]
     },
     "execution_count": 40,
     "metadata": {},
     "output_type": "execute_result"
    }
   ],
   "source": [
    "index=['0','1','2','3','4','5']\n",
    "result = str(index[a[0]])\n",
    "result"
   ]
  },
  {
   "cell_type": "code",
   "execution_count": 41,
   "id": "1b9cad7e",
   "metadata": {},
   "outputs": [
    {
     "data": {
      "text/plain": [
       "{'cardboard': 0, 'glass': 1, 'metal': 2, 'paper': 3, 'plastic': 4, 'trash': 5}"
      ]
     },
     "execution_count": 41,
     "metadata": {},
     "output_type": "execute_result"
    }
   ],
   "source": [
    "train_transform.class_indices"
   ]
  },
  {
   "cell_type": "code",
   "execution_count": 42,
   "id": "3b1f22f7",
   "metadata": {},
   "outputs": [
    {
     "data": {
      "text/plain": [
       "'paper'"
      ]
     },
     "execution_count": 42,
     "metadata": {},
     "output_type": "execute_result"
    }
   ],
   "source": [
    "index1=['cardboard','glass','metal','paper','plastic','trash']\n",
    "result1 = str(index1[a[0]])\n",
    "result1"
   ]
  },
  {
   "cell_type": "code",
   "execution_count": 1,
   "id": "ab1988a2",
   "metadata": {},
   "outputs": [
    {
     "name": "stdout",
     "output_type": "stream",
     "text": [
      "Collecting watson-machine-learning-client\n",
      "  Downloading watson_machine_learning_client-1.0.391-py3-none-any.whl (538 kB)\n",
      "Requirement already satisfied: boto3 in c:\\users\\91902\\anaconda3\\lib\\site-packages (from watson-machine-learning-client) (1.21.32)\n",
      "Collecting ibm-cos-sdk\n",
      "  Downloading ibm-cos-sdk-2.13.0.tar.gz (56 kB)\n",
      "Requirement already satisfied: requests in c:\\users\\91902\\anaconda3\\lib\\site-packages (from watson-machine-learning-client) (2.27.1)\n",
      "Requirement already satisfied: tqdm in c:\\users\\91902\\anaconda3\\lib\\site-packages (from watson-machine-learning-client) (4.64.0)\n",
      "Requirement already satisfied: certifi in c:\\users\\91902\\anaconda3\\lib\\site-packages (from watson-machine-learning-client) (2021.10.8)\n",
      "Requirement already satisfied: pandas in c:\\users\\91902\\anaconda3\\lib\\site-packages (from watson-machine-learning-client) (1.4.2)\n",
      "Requirement already satisfied: urllib3 in c:\\users\\91902\\anaconda3\\lib\\site-packages (from watson-machine-learning-client) (1.26.9)\n",
      "Collecting lomond\n",
      "  Downloading lomond-0.3.3-py2.py3-none-any.whl (35 kB)\n",
      "Requirement already satisfied: tabulate in c:\\users\\91902\\anaconda3\\lib\\site-packages (from watson-machine-learning-client) (0.8.9)\n",
      "Requirement already satisfied: botocore<1.25.0,>=1.24.32 in c:\\users\\91902\\anaconda3\\lib\\site-packages (from boto3->watson-machine-learning-client) (1.24.32)\n",
      "Requirement already satisfied: s3transfer<0.6.0,>=0.5.0 in c:\\users\\91902\\anaconda3\\lib\\site-packages (from boto3->watson-machine-learning-client) (0.5.0)\n",
      "Requirement already satisfied: jmespath<2.0.0,>=0.7.1 in c:\\users\\91902\\anaconda3\\lib\\site-packages (from boto3->watson-machine-learning-client) (0.10.0)\n",
      "Requirement already satisfied: python-dateutil<3.0.0,>=2.1 in c:\\users\\91902\\anaconda3\\lib\\site-packages (from botocore<1.25.0,>=1.24.32->boto3->watson-machine-learning-client) (2.8.2)\n",
      "Requirement already satisfied: six>=1.5 in c:\\users\\91902\\anaconda3\\lib\\site-packages (from python-dateutil<3.0.0,>=2.1->botocore<1.25.0,>=1.24.32->boto3->watson-machine-learning-client) (1.16.0)\n",
      "Collecting ibm-cos-sdk-core==2.13.0\n",
      "  Downloading ibm-cos-sdk-core-2.13.0.tar.gz (971 kB)\n",
      "Collecting ibm-cos-sdk-s3transfer==2.13.0\n",
      "  Downloading ibm-cos-sdk-s3transfer-2.13.0.tar.gz (139 kB)\n",
      "Collecting requests\n",
      "  Using cached requests-2.30.0-py3-none-any.whl (62 kB)\n",
      "Collecting urllib3\n",
      "  Using cached urllib3-1.26.15-py2.py3-none-any.whl (140 kB)\n",
      "Requirement already satisfied: charset-normalizer<4,>=2 in c:\\users\\91902\\anaconda3\\lib\\site-packages (from requests->watson-machine-learning-client) (2.0.4)\n",
      "Requirement already satisfied: idna<4,>=2.5 in c:\\users\\91902\\anaconda3\\lib\\site-packages (from requests->watson-machine-learning-client) (3.3)\n",
      "Requirement already satisfied: numpy>=1.18.5 in c:\\users\\91902\\anaconda3\\lib\\site-packages (from pandas->watson-machine-learning-client) (1.22.4)\n",
      "Requirement already satisfied: pytz>=2020.1 in c:\\users\\91902\\anaconda3\\lib\\site-packages (from pandas->watson-machine-learning-client) (2021.3)\n",
      "Requirement already satisfied: colorama in c:\\users\\91902\\anaconda3\\lib\\site-packages (from tqdm->watson-machine-learning-client) (0.4.4)\n",
      "Building wheels for collected packages: ibm-cos-sdk, ibm-cos-sdk-core, ibm-cos-sdk-s3transfer\n",
      "  Building wheel for ibm-cos-sdk (setup.py): started\n",
      "  Building wheel for ibm-cos-sdk (setup.py): finished with status 'done'\n",
      "  Created wheel for ibm-cos-sdk: filename=ibm_cos_sdk-2.13.0-py3-none-any.whl size=73918 sha256=2499698f2134596affafe012354f29ad566acd69dd8872174617d8b4e5d2dec6\n",
      "  Stored in directory: c:\\users\\91902\\appdata\\local\\pip\\cache\\wheels\\56\\3e\\3e\\14f63f015d576b0eead4e6099f10c5f8c0a7d892e85fd29895\n",
      "  Building wheel for ibm-cos-sdk-core (setup.py): started\n",
      "  Building wheel for ibm-cos-sdk-core (setup.py): finished with status 'done'\n",
      "  Created wheel for ibm-cos-sdk-core: filename=ibm_cos_sdk_core-2.13.0-py3-none-any.whl size=568144 sha256=a668c714e8c728173e7eaf7ba8915d33f78220cd2ec32196f580e2cacd1cec80\n",
      "  Stored in directory: c:\\users\\91902\\appdata\\local\\pip\\cache\\wheels\\dc\\a7\\1f\\3c247225fdbfc76e8d0b054e206f6d2f3dbf088eb5e477861e\n",
      "  Building wheel for ibm-cos-sdk-s3transfer (setup.py): started\n",
      "  Building wheel for ibm-cos-sdk-s3transfer (setup.py): finished with status 'done'\n",
      "  Created wheel for ibm-cos-sdk-s3transfer: filename=ibm_cos_sdk_s3transfer-2.13.0-py3-none-any.whl size=90109 sha256=a1c58eda5704ee117a4549403b4ea88409e0922e9fd416997d362dede193628a\n",
      "  Stored in directory: c:\\users\\91902\\appdata\\local\\pip\\cache\\wheels\\58\\4b\\7a\\42d81e1a3f02e2911b44d1eaadb5bc36c8b80d24e44e2dd4b8\n",
      "Successfully built ibm-cos-sdk ibm-cos-sdk-core ibm-cos-sdk-s3transfer\n",
      "Installing collected packages: urllib3, requests, ibm-cos-sdk-core, ibm-cos-sdk-s3transfer, lomond, ibm-cos-sdk, watson-machine-learning-client\n",
      "  Attempting uninstall: urllib3\n",
      "    Found existing installation: urllib3 1.26.9\n",
      "    Uninstalling urllib3-1.26.9:\n",
      "      Successfully uninstalled urllib3-1.26.9\n",
      "  Attempting uninstall: requests\n",
      "    Found existing installation: requests 2.27.1\n",
      "    Uninstalling requests-2.27.1:\n",
      "      Successfully uninstalled requests-2.27.1\n",
      "Successfully installed ibm-cos-sdk-2.13.0 ibm-cos-sdk-core-2.13.0 ibm-cos-sdk-s3transfer-2.13.0 lomond-0.3.3 requests-2.30.0 urllib3-1.26.15 watson-machine-learning-client-1.0.391\n"
     ]
    },
    {
     "name": "stderr",
     "output_type": "stream",
     "text": [
      "ERROR: pip's dependency resolver does not currently take into account all the packages that are installed. This behaviour is the source of the following dependency conflicts.\n",
      "conda-repo-cli 1.0.4 requires pathlib, which is not installed.\n",
      "anaconda-project 0.10.2 requires ruamel-yaml, which is not installed.\n",
      "google-api-core 1.25.1 requires google-auth<2.0dev,>=1.21.1, but you have google-auth 2.18.0 which is incompatible.\n"
     ]
    }
   ],
   "source": [
    "!pip install watson-machine-learning-client "
   ]
  },
  {
   "cell_type": "code",
   "execution_count": 2,
   "id": "50128f84",
   "metadata": {},
   "outputs": [
    {
     "name": "stdout",
     "output_type": "stream",
     "text": [
      "Collecting ibm_watson_machine_learning\n",
      "  Downloading ibm_watson_machine_learning-1.0.302-py3-none-any.whl (1.7 MB)\n",
      "Requirement already satisfied: tabulate in c:\\users\\91902\\anaconda3\\lib\\site-packages (from ibm_watson_machine_learning) (0.8.9)\n",
      "Requirement already satisfied: importlib-metadata in c:\\users\\91902\\anaconda3\\lib\\site-packages (from ibm_watson_machine_learning) (4.11.3)\n",
      "Requirement already satisfied: lomond in c:\\users\\91902\\anaconda3\\lib\\site-packages (from ibm_watson_machine_learning) (0.3.3)\n",
      "Collecting ibm-cos-sdk==2.11.*\n",
      "  Downloading ibm-cos-sdk-2.11.0.tar.gz (53 kB)\n",
      "Requirement already satisfied: urllib3 in c:\\users\\91902\\anaconda3\\lib\\site-packages (from ibm_watson_machine_learning) (1.26.15)\n",
      "Requirement already satisfied: pandas<1.6.0,>=0.24.2 in c:\\users\\91902\\anaconda3\\lib\\site-packages (from ibm_watson_machine_learning) (1.4.2)\n",
      "Requirement already satisfied: requests in c:\\users\\91902\\anaconda3\\lib\\site-packages (from ibm_watson_machine_learning) (2.30.0)\n",
      "Requirement already satisfied: packaging in c:\\users\\91902\\anaconda3\\lib\\site-packages (from ibm_watson_machine_learning) (21.3)\n",
      "Requirement already satisfied: certifi in c:\\users\\91902\\anaconda3\\lib\\site-packages (from ibm_watson_machine_learning) (2021.10.8)\n",
      "Collecting ibm-cos-sdk-core==2.11.0\n",
      "  Downloading ibm-cos-sdk-core-2.11.0.tar.gz (913 kB)\n",
      "Collecting ibm-cos-sdk-s3transfer==2.11.0\n",
      "  Downloading ibm-cos-sdk-s3transfer-2.11.0.tar.gz (135 kB)\n",
      "Requirement already satisfied: jmespath<1.0.0,>=0.7.1 in c:\\users\\91902\\anaconda3\\lib\\site-packages (from ibm-cos-sdk==2.11.*->ibm_watson_machine_learning) (0.10.0)\n",
      "Requirement already satisfied: python-dateutil<3.0.0,>=2.1 in c:\\users\\91902\\anaconda3\\lib\\site-packages (from ibm-cos-sdk-core==2.11.0->ibm-cos-sdk==2.11.*->ibm_watson_machine_learning) (2.8.2)\n",
      "Requirement already satisfied: pytz>=2020.1 in c:\\users\\91902\\anaconda3\\lib\\site-packages (from pandas<1.6.0,>=0.24.2->ibm_watson_machine_learning) (2021.3)\n",
      "Requirement already satisfied: numpy>=1.18.5 in c:\\users\\91902\\anaconda3\\lib\\site-packages (from pandas<1.6.0,>=0.24.2->ibm_watson_machine_learning) (1.22.4)\n",
      "Requirement already satisfied: six>=1.5 in c:\\users\\91902\\anaconda3\\lib\\site-packages (from python-dateutil<3.0.0,>=2.1->ibm-cos-sdk-core==2.11.0->ibm-cos-sdk==2.11.*->ibm_watson_machine_learning) (1.16.0)\n",
      "Requirement already satisfied: charset-normalizer<4,>=2 in c:\\users\\91902\\anaconda3\\lib\\site-packages (from requests->ibm_watson_machine_learning) (2.0.4)\n",
      "Requirement already satisfied: idna<4,>=2.5 in c:\\users\\91902\\anaconda3\\lib\\site-packages (from requests->ibm_watson_machine_learning) (3.3)\n",
      "Requirement already satisfied: zipp>=0.5 in c:\\users\\91902\\anaconda3\\lib\\site-packages (from importlib-metadata->ibm_watson_machine_learning) (3.7.0)\n",
      "Requirement already satisfied: pyparsing!=3.0.5,>=2.0.2 in c:\\users\\91902\\anaconda3\\lib\\site-packages (from packaging->ibm_watson_machine_learning) (3.0.4)\n",
      "Building wheels for collected packages: ibm-cos-sdk, ibm-cos-sdk-core, ibm-cos-sdk-s3transfer\n",
      "  Building wheel for ibm-cos-sdk (setup.py): started\n",
      "  Building wheel for ibm-cos-sdk (setup.py): finished with status 'done'\n",
      "  Created wheel for ibm-cos-sdk: filename=ibm_cos_sdk-2.11.0-py3-none-any.whl size=73641 sha256=18493aa6e6a82a127a4ed08f0f043a9d1e1d5aab8becdf11d523d022046b3677\n",
      "  Stored in directory: c:\\users\\91902\\appdata\\local\\pip\\cache\\wheels\\d3\\a5\\34\\52d2e378d3d0446989ebcd214af8bad55beecf905258852b9f\n",
      "  Building wheel for ibm-cos-sdk-core (setup.py): started\n",
      "  Building wheel for ibm-cos-sdk-core (setup.py): finished with status 'done'\n",
      "  Created wheel for ibm-cos-sdk-core: filename=ibm_cos_sdk_core-2.11.0-py3-none-any.whl size=536333 sha256=fa0b6eaae06d0af99b6d8f639499c158c04f0a21affe028ca36a0b1c95c3503e\n",
      "  Stored in directory: c:\\users\\91902\\appdata\\local\\pip\\cache\\wheels\\ed\\a7\\cd\\32a2cf8bae11ba6fc56451b7c46608cfd9176d1da8c6f73fa1\n",
      "  Building wheel for ibm-cos-sdk-s3transfer (setup.py): started\n",
      "  Building wheel for ibm-cos-sdk-s3transfer (setup.py): finished with status 'done'\n",
      "  Created wheel for ibm-cos-sdk-s3transfer: filename=ibm_cos_sdk_s3transfer-2.11.0-py3-none-any.whl size=89471 sha256=ffb10abac0d6e9b526dc45d88862d6a24d7cdd4a793f13fe1e57905019f02e65\n",
      "  Stored in directory: c:\\users\\91902\\appdata\\local\\pip\\cache\\wheels\\4a\\3f\\7c\\551692188f14bdb095e715dd7f1061fec13b3766d45f3c3296\n",
      "Successfully built ibm-cos-sdk ibm-cos-sdk-core ibm-cos-sdk-s3transfer\n",
      "Installing collected packages: ibm-cos-sdk-core, ibm-cos-sdk-s3transfer, ibm-cos-sdk, ibm-watson-machine-learning\n",
      "  Attempting uninstall: ibm-cos-sdk-core\n",
      "    Found existing installation: ibm-cos-sdk-core 2.13.0\n",
      "    Uninstalling ibm-cos-sdk-core-2.13.0:\n",
      "      Successfully uninstalled ibm-cos-sdk-core-2.13.0\n",
      "  Attempting uninstall: ibm-cos-sdk-s3transfer\n",
      "    Found existing installation: ibm-cos-sdk-s3transfer 2.13.0\n",
      "    Uninstalling ibm-cos-sdk-s3transfer-2.13.0:\n",
      "      Successfully uninstalled ibm-cos-sdk-s3transfer-2.13.0\n",
      "  Attempting uninstall: ibm-cos-sdk\n",
      "    Found existing installation: ibm-cos-sdk 2.13.0\n",
      "    Uninstalling ibm-cos-sdk-2.13.0:\n",
      "      Successfully uninstalled ibm-cos-sdk-2.13.0\n",
      "Successfully installed ibm-cos-sdk-2.11.0 ibm-cos-sdk-core-2.11.0 ibm-cos-sdk-s3transfer-2.11.0 ibm-watson-machine-learning-1.0.302\n"
     ]
    }
   ],
   "source": [
    "!pip install ibm_watson_machine_learning"
   ]
  },
  {
   "cell_type": "code",
   "execution_count": null,
   "id": "fba8a412",
   "metadata": {},
   "outputs": [],
   "source": [
    "from ibm_watson_machine_learning import APIClient\n",
    "wml_credentials={\n",
    "    \"url\":\"https://us-south.ml.cloud.ibm.com\",\n",
    "    \"apikey\":\"uq62bGcoxhMaA18k5lq8TzdC24ZxixD6aZ1Vf1MhzPnY\"\n",
    "}\n",
    "\n",
    "client=APIClient(wml_credentials)"
   ]
  }
 ],
 "metadata": {
  "kernelspec": {
   "display_name": "Python 3 (ipykernel)",
   "language": "python",
   "name": "python3"
  },
  "language_info": {
   "codemirror_mode": {
    "name": "ipython",
    "version": 3
   },
   "file_extension": ".py",
   "mimetype": "text/x-python",
   "name": "python",
   "nbconvert_exporter": "python",
   "pygments_lexer": "ipython3",
   "version": "3.9.12"
  }
 },
 "nbformat": 4,
 "nbformat_minor": 5
}
